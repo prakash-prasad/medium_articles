{
 "cells": [
  {
   "cell_type": "markdown",
   "id": "13f4bf81",
   "metadata": {},
   "source": [
    "https://viv1kv.medium.com/say-goodbye-to-pandas-why-you-should-switch-to-polars-for-fast-data-manipulation-in-python-df00dcab788f\n",
    "\n",
    "Polars is an open-source and relatively new library for data analysis and processing that provides an alternative to the widely popular Pandas library.\n",
    "\n",
    "Polars is designed to be faster than Pandas when it comes to handling large datasets. This is achieved by using a columnar format for storage, which reduces the amount of time and memory required to access data. Polars also uses multithreading and SIMD instructions for faster computation\n",
    "\n",
    ": Polars is more memory-efficient than Pandas as it uses compressed columnar storage to store data. \n",
    "\n",
    "ata Types: Polars offers better support for complex data types such as time-based data, 64-bit integers, and categorical da\n",
    "\n",
    "yntax and Usage: Polars offers a simpler and more concise API than Pandas, making it easier to use and more intuitive for new users. \n",
    "\n",
    "Lazy Evaluation: Polars supports lazy evaluation through the use of lazy expressions, similar to Spark\n",
    "    "
   ]
  },
  {
   "cell_type": "code",
   "execution_count": 1,
   "id": "65d06ab8",
   "metadata": {},
   "outputs": [
    {
     "name": "stdout",
     "output_type": "stream",
     "text": [
      "Collecting polars\n",
      "  Downloading polars-0.16.13-cp37-abi3-macosx_10_7_x86_64.whl (15.6 MB)\n",
      "\u001b[2K     \u001b[90m━━━━━━━━━━━━━━━━━━━━━━━━━━━━━━━━━━━━━━━━\u001b[0m \u001b[32m15.6/15.6 MB\u001b[0m \u001b[31m6.4 MB/s\u001b[0m eta \u001b[36m0:00:00\u001b[0m00:01\u001b[0m00:01\u001b[0mm\n",
      "\u001b[?25hRequirement already satisfied: typing_extensions>=4.0.1 in /Users/prakash.prasad/opt/anaconda3/lib/python3.9/site-packages (from polars) (4.4.0)\n",
      "Installing collected packages: polars\n",
      "Successfully installed polars-0.16.13\n"
     ]
    }
   ],
   "source": [
    "!pip install polars"
   ]
  },
  {
   "cell_type": "code",
   "execution_count": 1,
   "id": "01c0072a",
   "metadata": {},
   "outputs": [],
   "source": [
    "import polars as pl\n",
    "import time\n",
    "import pandas as pd\n"
   ]
  },
  {
   "cell_type": "code",
   "execution_count": 8,
   "id": "66b8a4cf",
   "metadata": {},
   "outputs": [
    {
     "data": {
      "text/plain": [
       "0.2806541919708252"
      ]
     },
     "execution_count": 8,
     "metadata": {},
     "output_type": "execute_result"
    }
   ],
   "source": [
    "init = time.time()\n",
    "df = pl.read_csv('/Users/prakash.prasad/Desktop/Sprints/20230102/cart_numpy/sample_data_local_non_response')\n",
    "time.time()-init"
   ]
  },
  {
   "cell_type": "code",
   "execution_count": 4,
   "id": "269f3cd1",
   "metadata": {},
   "outputs": [
    {
     "data": {
      "text/plain": [
       "3.902534246444702"
      ]
     },
     "execution_count": 4,
     "metadata": {},
     "output_type": "execute_result"
    }
   ],
   "source": [
    "init = time.time()\n",
    "df1 = pd.read_csv('/Users/prakash.prasad/Desktop/Sprints/20230102/cart_numpy/sample_data_local_non_response')\n",
    "time.time()-init"
   ]
  },
  {
   "cell_type": "code",
   "execution_count": 10,
   "id": "e024301d",
   "metadata": {},
   "outputs": [
    {
     "name": "stdout",
     "output_type": "stream",
     "text": [
      "shape: (2, 2)\n",
      "┌─────┬─────┐\n",
      "│ A   ┆ B   │\n",
      "│ --- ┆ --- │\n",
      "│ i64 ┆ i64 │\n",
      "╞═════╪═════╡\n",
      "│ 2   ┆ 5   │\n",
      "│ 3   ┆ 6   │\n",
      "└─────┴─────┘\n"
     ]
    }
   ],
   "source": [
    "df2 = pl.DataFrame({'A': [1, 2, 3], 'B': [4, 5, 6]})\n",
    "filtered_rows = df2.filter(pl.col('A') > 1)\n",
    "print(filtered_rows)"
   ]
  },
  {
   "cell_type": "code",
   "execution_count": 15,
   "id": "ee61bf81",
   "metadata": {},
   "outputs": [
    {
     "data": {
      "text/html": [
       "<div><style>\n",
       ".dataframe > thead > tr > th,\n",
       ".dataframe > tbody > tr > td {\n",
       "  text-align: right;\n",
       "}\n",
       "</style>\n",
       "<small>shape: (7, 542)</small><table border=\"1\" class=\"dataframe\"><thead><tr><th>describe</th><th>column_0</th><th>onehotencoder__x0_</th><th>onehotencoder__x0_B</th><th>onehotencoder__x0_D</th><th>onehotencoder__x0_DIV</th><th>onehotencoder__x0_Divorced</th><th>onehotencoder__x0_L</th><th>onehotencoder__x0_LIVE IN</th><th>onehotencoder__x0_Live In</th><th>onehotencoder__x0_M</th><th>onehotencoder__x0_MARRIED</th><th>onehotencoder__x0_MISSING</th><th>onehotencoder__x0_Married</th><th>onehotencoder__x0_O</th><th>onehotencoder__x0_OTHERS</th><th>onehotencoder__x0_S</th><th>onehotencoder__x0_U</th><th>onehotencoder__x0_UNMARRIED</th><th>onehotencoder__x0_W</th><th>onehotencoder__x0_Widow</th><th>onehotencoder__x0_Widowed</th><th>onehotencoder__x0_Widower</th><th>onehotencoder__x1_AGRI-MARGINAL FARMER (UP TO 2.5 ACRE)</th><th>onehotencoder__x1_AGRI-SMALL FARMER (2.5-5 ACRE)</th><th>onehotencoder__x1_ALLIEDAGRI-DAIRY</th><th>onehotencoder__x1_CORPORATE</th><th>onehotencoder__x1_EMPLOYEE</th><th>onehotencoder__x1_FARMER</th><th>onehotencoder__x1_GROUP COMPANY EMPLOYEE</th><th>onehotencoder__x1_HOMEMAKER</th><th>onehotencoder__x1_HOUSE WIFE</th><th>onehotencoder__x1_INDIVIDUAL OTHERS</th><th>onehotencoder__x1_INDIVIDUAL SALARIED</th><th>onehotencoder__x1_INDIVIDUAL SELF EMPLOYED</th><th>onehotencoder__x1_MISSING</th><th>onehotencoder__x1_NON-INDIVIDUAL</th><th>...</th><th>RPMNT_6M_PCT_AMOUNT_IMPS</th><th>RPMNT_12M_PCT_COUNT_UPI</th><th>RPMNT_12M_PCT_AMOUNT_UPI</th><th>PRDTOWN_VINTAGE</th><th>PRDTOWN_1M_MAX_CASH_LIMIT</th><th>PRDTOWN_3M_MIN_CASH_LIMIT</th><th>PRDTOWN_3M_AVG_CASH_LIMIT</th><th>PRDTOWN_12M_MAX_CASH_LIMIT</th><th>PRDTOWN_12M_MIN_CASH_LIMIT</th><th>PRDTOWN_12M_AVG_CASH_LIMIT</th><th>PRDTOWN_1M_MAX_APR</th><th>PRDTOWN_1M_MIN_APR</th><th>PRDTOWN_1M_AVG_APR</th><th>PRDTOWN_3M_MAX_APR</th><th>PRDTOWN_6M_MAX_APR</th><th>PRDTOWN_6M_MIN_APR</th><th>PRDTOWN_6M_AVG_APR</th><th>PRDTOWN_12M_MIN_APR</th><th>BILLING_NUM_DAY_BEFORE_DD_BILL_PAID_MIN_1M</th><th>BILLING_NUM_DAY_BEFORE_DD_BILL_PAID_MAX_1M</th><th>BILLING_NUM_DAY_BEFORE_DD_BILL_PAID_MAX_3M</th><th>BILLING_NUM_DAY_BEFORE_DD_BILL_PAID_AVG_3M</th><th>BILLING_NUM_DAY_BEFORE_DD_BILL_PAID_AVG_6M</th><th>ASSETDEMOGS_DOB_DAYS</th><th>ASSETDELINQUENCY_ALL_NA_12M_X_MAXTIMESINCELASTDPD_DAYS</th><th>ASSETDELINQUENCY_ALL_NA_ALL_X_MINTIMESINCELASTDPD_DAYS</th><th>ASSETDELINQUENCY_ALL_NA_ALL_X_TIMESINCEDEFAULTCURED_DAYS</th><th>ASSETDELINQUENCY_ALL_NA_ALL_30_TIMESINCEDEFAULTCURED_DAYS</th><th>ASSETDELINQUENCY_ALL_NA_ALL_90_MINTIMESINCELASTDPD_DAYS</th><th>ASSETDELINQUENCY_ALL_NA_ALL_90_MAXTIMESINCELASTDPD_DAYS</th><th>ASSETDELINQUENCY_CCOD_NA_ALL_X_MINTIMESINCELASTDPD_DAYS</th><th>ASSETDELINQUENCY_CCOD_NA_ALL_X_TIMESINCEDEFAULTCURED_DAYS</th><th>ASSETDELINQUENCY_PL_NA_ALL_30_MINTIMESINCELASTDPD_DAYS</th><th>ASSETDELINQUENCY_UNSECURED_NA_6M_30_MINTIMESINCELASTDPD_DAYS</th><th>BILLING_BILL_PAYMENT_DUE_DATE_DAYS</th><th>BILLING_BILL_GENERATION_DATE_DAYS</th><th>CONVERTED</th></tr><tr><td>str</td><td>f64</td><td>f64</td><td>f64</td><td>f64</td><td>f64</td><td>f64</td><td>f64</td><td>f64</td><td>f64</td><td>f64</td><td>f64</td><td>f64</td><td>f64</td><td>f64</td><td>f64</td><td>f64</td><td>f64</td><td>f64</td><td>f64</td><td>f64</td><td>f64</td><td>f64</td><td>f64</td><td>f64</td><td>f64</td><td>f64</td><td>f64</td><td>f64</td><td>f64</td><td>f64</td><td>f64</td><td>f64</td><td>f64</td><td>f64</td><td>f64</td><td>f64</td><td>...</td><td>f64</td><td>f64</td><td>f64</td><td>f64</td><td>f64</td><td>f64</td><td>f64</td><td>f64</td><td>f64</td><td>f64</td><td>f64</td><td>f64</td><td>f64</td><td>f64</td><td>f64</td><td>f64</td><td>f64</td><td>f64</td><td>f64</td><td>f64</td><td>f64</td><td>f64</td><td>f64</td><td>f64</td><td>f64</td><td>f64</td><td>f64</td><td>f64</td><td>f64</td><td>f64</td><td>f64</td><td>f64</td><td>f64</td><td>f64</td><td>f64</td><td>f64</td><td>f64</td></tr></thead><tbody><tr><td>&quot;count&quot;</td><td>54294.0</td><td>54294.0</td><td>54294.0</td><td>54294.0</td><td>54294.0</td><td>54294.0</td><td>54294.0</td><td>54294.0</td><td>54294.0</td><td>54294.0</td><td>54294.0</td><td>54294.0</td><td>54294.0</td><td>54294.0</td><td>54294.0</td><td>54294.0</td><td>54294.0</td><td>54294.0</td><td>54294.0</td><td>54294.0</td><td>54294.0</td><td>54294.0</td><td>54294.0</td><td>54294.0</td><td>54294.0</td><td>54294.0</td><td>54294.0</td><td>54294.0</td><td>54294.0</td><td>54294.0</td><td>54294.0</td><td>54294.0</td><td>54294.0</td><td>54294.0</td><td>54294.0</td><td>54294.0</td><td>...</td><td>54294.0</td><td>54294.0</td><td>54294.0</td><td>54294.0</td><td>54294.0</td><td>54294.0</td><td>54294.0</td><td>54294.0</td><td>54294.0</td><td>54294.0</td><td>54294.0</td><td>54294.0</td><td>54294.0</td><td>54294.0</td><td>54294.0</td><td>54294.0</td><td>54294.0</td><td>54294.0</td><td>54294.0</td><td>54294.0</td><td>54294.0</td><td>54294.0</td><td>54294.0</td><td>54294.0</td><td>54294.0</td><td>54294.0</td><td>54294.0</td><td>54294.0</td><td>54294.0</td><td>54294.0</td><td>54294.0</td><td>54294.0</td><td>54294.0</td><td>54294.0</td><td>54294.0</td><td>54294.0</td><td>54294.0</td></tr><tr><td>&quot;null_count&quot;</td><td>0.0</td><td>0.0</td><td>0.0</td><td>0.0</td><td>0.0</td><td>0.0</td><td>0.0</td><td>0.0</td><td>0.0</td><td>0.0</td><td>0.0</td><td>0.0</td><td>0.0</td><td>0.0</td><td>0.0</td><td>0.0</td><td>0.0</td><td>0.0</td><td>0.0</td><td>0.0</td><td>0.0</td><td>0.0</td><td>0.0</td><td>0.0</td><td>0.0</td><td>0.0</td><td>0.0</td><td>0.0</td><td>0.0</td><td>0.0</td><td>0.0</td><td>0.0</td><td>0.0</td><td>0.0</td><td>0.0</td><td>0.0</td><td>...</td><td>0.0</td><td>0.0</td><td>0.0</td><td>0.0</td><td>0.0</td><td>0.0</td><td>0.0</td><td>0.0</td><td>0.0</td><td>0.0</td><td>0.0</td><td>0.0</td><td>0.0</td><td>0.0</td><td>0.0</td><td>0.0</td><td>0.0</td><td>0.0</td><td>0.0</td><td>0.0</td><td>0.0</td><td>0.0</td><td>0.0</td><td>0.0</td><td>0.0</td><td>0.0</td><td>0.0</td><td>0.0</td><td>0.0</td><td>0.0</td><td>0.0</td><td>0.0</td><td>0.0</td><td>0.0</td><td>0.0</td><td>0.0</td><td>0.0</td></tr><tr><td>&quot;mean&quot;</td><td>82464.54588</td><td>0.013243</td><td>0.0</td><td>0.0</td><td>0.000018</td><td>0.0</td><td>0.0</td><td>0.0</td><td>0.0</td><td>0.687884</td><td>0.033576</td><td>0.023594</td><td>0.000018</td><td>0.000147</td><td>0.000037</td><td>0.225329</td><td>0.006483</td><td>0.009375</td><td>0.000258</td><td>0.0</td><td>0.0</td><td>0.000037</td><td>0.0</td><td>0.000018</td><td>0.000055</td><td>0.000055</td><td>0.0</td><td>0.001234</td><td>0.000037</td><td>0.000589</td><td>0.000332</td><td>0.0</td><td>0.001934</td><td>0.000718</td><td>0.259421</td><td>0.000018</td><td>...</td><td>0.012209</td><td>0.003854</td><td>0.005367</td><td>0.202914</td><td>528.699304</td><td>524.223671</td><td>528.426322</td><td>528.896379</td><td>524.420746</td><td>528.646166</td><td>1.493657</td><td>1.462313</td><td>1.486428</td><td>1.49699</td><td>1.498998</td><td>1.424596</td><td>1.488071</td><td>1.406748</td><td>0.101466</td><td>0.101466</td><td>0.157016</td><td>0.069431</td><td>0.065455</td><td>13235.429477</td><td>5.4164e8</td><td>3.4496e8</td><td>3.9067e8</td><td>5.3269e8</td><td>5.8833e8</td><td>5.8833e8</td><td>7.3690e8</td><td>7.6915e8</td><td>8.0655e8</td><td>8.5965e8</td><td>9.5683e8</td><td>9.5683e8</td><td>0.001289</td></tr><tr><td>&quot;std&quot;</td><td>47446.425189</td><td>0.114314</td><td>0.0</td><td>0.0</td><td>0.004292</td><td>0.0</td><td>0.0</td><td>0.0</td><td>0.0</td><td>0.463361</td><td>0.180138</td><td>0.151781</td><td>0.004292</td><td>0.012138</td><td>0.006069</td><td>0.417802</td><td>0.080258</td><td>0.09637</td><td>0.016056</td><td>0.0</td><td>0.0</td><td>0.006069</td><td>0.0</td><td>0.004292</td><td>0.007433</td><td>0.007433</td><td>0.0</td><td>0.035107</td><td>0.006069</td><td>0.02427</td><td>0.018205</td><td>0.0</td><td>0.043934</td><td>0.026792</td><td>0.438321</td><td>0.004292</td><td>...</td><td>0.100211</td><td>0.044338</td><td>0.061276</td><td>1.270901</td><td>2945.36089</td><td>2907.679117</td><td>2942.335905</td><td>2945.555282</td><td>2907.876333</td><td>2942.62429</td><td>6.576313</td><td>6.514005</td><td>6.552354</td><td>6.582429</td><td>6.586296</td><td>6.438328</td><td>6.550051</td><td>6.406492</td><td>1.054778</td><td>1.054778</td><td>1.316971</td><td>0.619371</td><td>0.551529</td><td>3057.704581</td><td>4.9827e8</td><td>4.7536e8</td><td>4.8790e8</td><td>4.9893e8</td><td>4.9214e8</td><td>4.9214e8</td><td>4.4032e8</td><td>4.2138e8</td><td>3.9500e8</td><td>3.4735e8</td><td>2.0325e8</td><td>2.0325e8</td><td>0.035884</td></tr><tr><td>&quot;min&quot;</td><td>0.0</td><td>0.0</td><td>0.0</td><td>0.0</td><td>0.0</td><td>0.0</td><td>0.0</td><td>0.0</td><td>0.0</td><td>0.0</td><td>0.0</td><td>0.0</td><td>0.0</td><td>0.0</td><td>0.0</td><td>0.0</td><td>0.0</td><td>0.0</td><td>0.0</td><td>0.0</td><td>0.0</td><td>0.0</td><td>0.0</td><td>0.0</td><td>0.0</td><td>0.0</td><td>0.0</td><td>0.0</td><td>0.0</td><td>0.0</td><td>0.0</td><td>0.0</td><td>0.0</td><td>0.0</td><td>0.0</td><td>0.0</td><td>...</td><td>0.0</td><td>0.0</td><td>0.0</td><td>0.0</td><td>0.0</td><td>0.0</td><td>0.0</td><td>0.0</td><td>0.0</td><td>0.0</td><td>-1.0</td><td>-1.0</td><td>-1.0</td><td>-1.0</td><td>-1.0</td><td>-1.0</td><td>-1.0</td><td>-1.0</td><td>0.0</td><td>0.0</td><td>0.0</td><td>0.0</td><td>0.0</td><td>7331.0</td><td>106.0</td><td>113.0</td><td>112.0</td><td>112.0</td><td>117.0</td><td>106.0</td><td>119.0</td><td>114.0</td><td>119.0</td><td>113.0</td><td>44.0</td><td>65.0</td><td>0.0</td></tr><tr><td>&quot;max&quot;</td><td>164525.0</td><td>1.0</td><td>0.0</td><td>0.0</td><td>1.0</td><td>0.0</td><td>0.0</td><td>0.0</td><td>0.0</td><td>1.0</td><td>1.0</td><td>1.0</td><td>1.0</td><td>1.0</td><td>1.0</td><td>1.0</td><td>1.0</td><td>1.0</td><td>1.0</td><td>0.0</td><td>0.0</td><td>1.0</td><td>0.0</td><td>1.0</td><td>1.0</td><td>1.0</td><td>0.0</td><td>1.0</td><td>1.0</td><td>1.0</td><td>1.0</td><td>0.0</td><td>1.0</td><td>1.0</td><td>1.0</td><td>1.0</td><td>...</td><td>1.0</td><td>1.0</td><td>1.0</td><td>14.0</td><td>100000.0</td><td>100000.0</td><td>100000.0</td><td>100000.0</td><td>100000.0</td><td>100000.0</td><td>42.0</td><td>42.0</td><td>42.0</td><td>42.0</td><td>42.0</td><td>42.0</td><td>42.0</td><td>42.0</td><td>21.0</td><td>21.0</td><td>21.0</td><td>19.0</td><td>18.5</td><td>22088.0</td><td>9.99999999e8</td><td>9.99999999e8</td><td>9.99999999e8</td><td>9.99999999e8</td><td>9.99999999e8</td><td>9.99999999e8</td><td>9.99999999e8</td><td>9.99999999e8</td><td>9.99999999e8</td><td>9.99999999e8</td><td>9.99999999e8</td><td>9.99999999e8</td><td>1.0</td></tr><tr><td>&quot;median&quot;</td><td>82340.5</td><td>0.0</td><td>0.0</td><td>0.0</td><td>0.0</td><td>0.0</td><td>0.0</td><td>0.0</td><td>0.0</td><td>1.0</td><td>0.0</td><td>0.0</td><td>0.0</td><td>0.0</td><td>0.0</td><td>0.0</td><td>0.0</td><td>0.0</td><td>0.0</td><td>0.0</td><td>0.0</td><td>0.0</td><td>0.0</td><td>0.0</td><td>0.0</td><td>0.0</td><td>0.0</td><td>0.0</td><td>0.0</td><td>0.0</td><td>0.0</td><td>0.0</td><td>0.0</td><td>0.0</td><td>0.0</td><td>0.0</td><td>...</td><td>0.0</td><td>0.0</td><td>0.0</td><td>0.0</td><td>0.0</td><td>0.0</td><td>0.0</td><td>0.0</td><td>0.0</td><td>0.0</td><td>0.0</td><td>0.0</td><td>0.0</td><td>0.0</td><td>0.0</td><td>0.0</td><td>0.0</td><td>0.0</td><td>0.0</td><td>0.0</td><td>0.0</td><td>0.0</td><td>0.0</td><td>12915.0</td><td>9.99999999e8</td><td>2263.0</td><td>930.0</td><td>9.99999999e8</td><td>9.99999999e8</td><td>9.99999999e8</td><td>9.99999999e8</td><td>9.99999999e8</td><td>9.99999999e8</td><td>9.99999999e8</td><td>9.99999999e8</td><td>9.99999999e8</td><td>0.0</td></tr></tbody></table></div>"
      ],
      "text/plain": [
       "shape: (7, 542)\n",
       "┌────────┬────────┬────────────┬────────────┬─────┬────────────┬────────────┬────────────┬─────────┐\n",
       "│ descri ┆ column ┆ onehotenco ┆ onehotenco ┆ ... ┆ ASSETDELIN ┆ BILLING_BI ┆ BILLING_BI ┆ CONVERT │\n",
       "│ be     ┆ _0     ┆ der__x0_   ┆ der__x0_B  ┆     ┆ QUENCY_UNS ┆ LL_PAYMENT ┆ LL_GENERAT ┆ ED      │\n",
       "│ ---    ┆ ---    ┆ ---        ┆ ---        ┆     ┆ ECURED_NA_ ┆ _DUE_DATE_ ┆ ION_DATE_D ┆ ---     │\n",
       "│ str    ┆ f64    ┆ f64        ┆ f64        ┆     ┆ 6M...      ┆ DA...      ┆ AY...      ┆ f64     │\n",
       "│        ┆        ┆            ┆            ┆     ┆ ---        ┆ ---        ┆ ---        ┆         │\n",
       "│        ┆        ┆            ┆            ┆     ┆ f64        ┆ f64        ┆ f64        ┆         │\n",
       "╞════════╪════════╪════════════╪════════════╪═════╪════════════╪════════════╪════════════╪═════════╡\n",
       "│ count  ┆ 54294. ┆ 54294.0    ┆ 54294.0    ┆ ... ┆ 54294.0    ┆ 54294.0    ┆ 54294.0    ┆ 54294.0 │\n",
       "│        ┆ 0      ┆            ┆            ┆     ┆            ┆            ┆            ┆         │\n",
       "│ null_c ┆ 0.0    ┆ 0.0        ┆ 0.0        ┆ ... ┆ 0.0        ┆ 0.0        ┆ 0.0        ┆ 0.0     │\n",
       "│ ount   ┆        ┆            ┆            ┆     ┆            ┆            ┆            ┆         │\n",
       "│ mean   ┆ 82464. ┆ 0.013243   ┆ 0.0        ┆ ... ┆ 8.5965e8   ┆ 9.5683e8   ┆ 9.5683e8   ┆ 0.00128 │\n",
       "│        ┆ 54588  ┆            ┆            ┆     ┆            ┆            ┆            ┆ 9       │\n",
       "│ std    ┆ 47446. ┆ 0.114314   ┆ 0.0        ┆ ... ┆ 3.4735e8   ┆ 2.0325e8   ┆ 2.0325e8   ┆ 0.03588 │\n",
       "│        ┆ 425189 ┆            ┆            ┆     ┆            ┆            ┆            ┆ 4       │\n",
       "│ min    ┆ 0.0    ┆ 0.0        ┆ 0.0        ┆ ... ┆ 113.0      ┆ 44.0       ┆ 65.0       ┆ 0.0     │\n",
       "│ max    ┆ 164525 ┆ 1.0        ┆ 0.0        ┆ ... ┆ 9.99999999 ┆ 9.99999999 ┆ 9.99999999 ┆ 1.0     │\n",
       "│        ┆ .0     ┆            ┆            ┆     ┆ e8         ┆ e8         ┆ e8         ┆         │\n",
       "│ median ┆ 82340. ┆ 0.0        ┆ 0.0        ┆ ... ┆ 9.99999999 ┆ 9.99999999 ┆ 9.99999999 ┆ 0.0     │\n",
       "│        ┆ 5      ┆            ┆            ┆     ┆ e8         ┆ e8         ┆ e8         ┆         │\n",
       "└────────┴────────┴────────────┴────────────┴─────┴────────────┴────────────┴────────────┴─────────┘"
      ]
     },
     "execution_count": 15,
     "metadata": {},
     "output_type": "execute_result"
    }
   ],
   "source": [
    "df.describe()"
   ]
  },
  {
   "cell_type": "code",
   "execution_count": null,
   "id": "c3ffa151",
   "metadata": {},
   "outputs": [],
   "source": []
  }
 ],
 "metadata": {
  "kernelspec": {
   "display_name": "Python 3 (ipykernel)",
   "language": "python",
   "name": "python3"
  },
  "language_info": {
   "codemirror_mode": {
    "name": "ipython",
    "version": 3
   },
   "file_extension": ".py",
   "mimetype": "text/x-python",
   "name": "python",
   "nbconvert_exporter": "python",
   "pygments_lexer": "ipython3",
   "version": "3.9.16"
  }
 },
 "nbformat": 4,
 "nbformat_minor": 5
}
